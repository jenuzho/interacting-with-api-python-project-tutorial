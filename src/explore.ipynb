{
 "cells": [
  {
   "cell_type": "markdown",
   "metadata": {},
   "source": [
    "# Explore here"
   ]
  },
  {
   "cell_type": "code",
   "execution_count": 2,
   "metadata": {},
   "outputs": [
    {
     "data": {
      "text/plain": [
       "True"
      ]
     },
     "execution_count": 2,
     "metadata": {},
     "output_type": "execute_result"
    }
   ],
   "source": [
    "import os\n",
    "import pandas as pd\n",
    "from dotenv import load_dotenv\n",
    "import spotipy\n",
    "from spotipy.oauth2 import SpotifyOAuth\n",
    "import matplotlib.pyplot as plt\n",
    "\n",
    "load_dotenv()  # Carga las variables desde .env"
   ]
  },
  {
   "cell_type": "code",
   "execution_count": null,
   "metadata": {},
   "outputs": [],
   "source": [
    "\n",
    "CLIENT_ID = os.getenv(\"CLIENT_ID\")\n",
    "CLIENT_SECRET = os.getenv(\"CLIENT_SECRET\")\n",
    "\n",
    "sp = spotipy.Spotify(auth_manager=SpotifyOAuth)\n",
    "\n",
    "artista_id = '2Eo4Yaukt9d6dnZrY5hQKi'"
   ]
  },
  {
   "cell_type": "code",
   "execution_count": null,
   "metadata": {},
   "outputs": [],
   "source": [
    "# Obtener las canciones principales\n",
    "top_tracks = sp.artist_top_tracks(artista_id, country='ar')['tracks'][:10]"
   ]
  },
  {
   "cell_type": "code",
   "execution_count": null,
   "metadata": {},
   "outputs": [],
   "source": [
    "# Extraer el nombre de la canción, popularidad y duración\n",
    "for track in top_tracks:\n",
    "    name = track['name']\n",
    "    popularity = track['popularity']\n",
    "    duration_min = track['duration_ms'] / 60000\n",
    "    print(f\"'{name}' - Popularidad: {popularity}, Duración: {duration_min:.2f} minutos\")\n"
   ]
  },
  {
   "cell_type": "code",
   "execution_count": null,
   "metadata": {},
   "outputs": [],
   "source": [
    "#6\n",
    "# Crear lista de diccionarios para cada canción\n",
    "tracks_data = [ {'Nombre': track['name'],\n",
    "     'Popularidad': track['popularity'],\n",
    "     'Duración_min': track['duration_ms'] / 60000}\n",
    "    for track in top_tracks]\n",
    "    # Crear DataFrame\n",
    "df_tracks = pd.DataFrame(tracks_data)\n",
    "# Ordenar por popularidad de forma creciente y mostrar top 3\n",
    "df_tracks_sorted = df_tracks.sort_values(by='Popularidad').head(3)\n",
    "print(df_tracks_sorted)\n",
    "# Crear el scatter plot\n",
    "plt.figure(figsize=(10, 6))\n",
    "plt.scatter(df_tracks['Duración_min'], df_tracks['Popularidad'], color='red')\n",
    "plt.title(\"Relación entre la duración de la canción y su popularidad\")"
   ]
  }
 ],
 "metadata": {
  "kernelspec": {
   "display_name": "Python 3",
   "language": "python",
   "name": "python3"
  },
  "language_info": {
   "codemirror_mode": {
    "name": "ipython",
    "version": 3
   },
   "file_extension": ".py",
   "mimetype": "text/x-python",
   "name": "python",
   "nbconvert_exporter": "python",
   "pygments_lexer": "ipython3",
   "version": "3.11.4"
  },
  "orig_nbformat": 4
 },
 "nbformat": 4,
 "nbformat_minor": 2
}
