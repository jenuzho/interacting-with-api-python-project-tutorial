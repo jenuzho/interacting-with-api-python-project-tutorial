{
 "cells": [
  {
   "cell_type": "markdown",
   "metadata": {},
   "source": [
    "# **INTERACTUANDO CON UNA API EN SPOTIFY**\n"
   ]
  },
  {
   "cell_type": "markdown",
   "metadata": {},
   "source": [
    "# **Top 10 Nina Simone Songs 🎵**"
   ]
  },
  {
   "cell_type": "markdown",
   "metadata": {},
   "source": [
    "**Objetivos:**\n",
    "\n",
    "- Crear una cuenta de desarrollador de `Spotify`.\n",
    "- Realizar la conexión y la solicitud `API`.\n",
    "- Obtener las 10 canciones más reproducidas de un artista escogido, en este caso `\"NINA SIMONE\"`.\n",
    "- Convertir los datos en un `Dataframe` de pandas.\n",
    "- Análisis gráfico con `scatter plot`.\n",
    "\n"
   ]
  },
  {
   "cell_type": "markdown",
   "metadata": {},
   "source": [
    "<br>\n",
    "\n",
    "**PASO 1: IMPORTACIÓN DE LIBRERÍAS**"
   ]
  },
  {
   "cell_type": "code",
   "execution_count": 23,
   "metadata": {},
   "outputs": [
    {
     "data": {
      "text/plain": [
       "True"
      ]
     },
     "execution_count": 23,
     "metadata": {},
     "output_type": "execute_result"
    }
   ],
   "source": [
    "import os\n",
    "import pandas as pd\n",
    "from dotenv import load_dotenv\n",
    "import spotipy\n",
    "#from spotipy.oauth2 import SpotifyOAuth\n",
    "import matplotlib.pyplot as plt\n",
    "import spotipy\n",
    "from spotipy.oauth2 import SpotifyClientCredentials\n",
    "from dotenv import load_dotenv\n",
    "load_dotenv()  # Carga las variables desde .env"
   ]
  },
  {
   "cell_type": "markdown",
   "metadata": {},
   "source": [
    "<br>\n",
    "\n",
    "**PASO 2: REALIZAR LAS SOLICITUDES A `SPOTIFY` Y OBTENER LAS 10 CANCIONES MÁS POPULARES**"
   ]
  },
  {
   "cell_type": "code",
   "execution_count": null,
   "metadata": {},
   "outputs": [
    {
     "name": "stdout",
     "output_type": "stream",
     "text": [
      "Las 10 canciones más populares de Nina Simone en España:\n",
      "1. Feeling Good\n",
      "2. I Put A Spell On You\n",
      "3. My Baby Just Cares for Me (2013 - Remaster)\n",
      "4. I Wish I Knew How It Would Feel to Be Free\n",
      "5. Don't Let Me Be Misunderstood\n",
      "6. Sinnerman\n",
      "7. Baltimore\n",
      "8. Sinnerman - Sofi Tukker Remix\n",
      "9. Love Me Or Leave Me\n",
      "10. Feeling Good - Austin Millz Remix\n"
     ]
    }
   ],
   "source": [
    "# Cargar las credenciales desde las variables de entorno\n",
    "CLIENT_ID = os.getenv(\"CLIENT_ID\")\n",
    "CLIENT_SECRET = os.getenv(\"CLIENT_SECRET\")\n",
    "\n",
    "# Verificación de credenciales\n",
    "if not CLIENT_ID or not CLIENT_SECRET:\n",
    "    raise ValueError(\"Las credenciales CLIENT_ID y CLIENT_SECRET no están definidas. Asegúrate de que están en el archivo .env\")\n",
    "\n",
    "# Autenticación con Spotify\n",
    "auth_manager = SpotifyClientCredentials(client_id=CLIENT_ID, client_secret=CLIENT_SECRET)\n",
    "sp = spotipy.Spotify(auth_manager=auth_manager)\n",
    "\n",
    "# Buscar al artista \"Nina Simone\"\n",
    "resultado_artista = sp.search(q=\"Nina Simone\", type=\"artist\", limit=1)\n",
    "if not resultado_artista['artists']['items']:\n",
    "    raise ValueError(\"No se encontró el artista 'Nina Simone' en Spotify.\")\n",
    "\n",
    "artista_id = resultado_artista['artists']['items'][0]['id']\n",
    "\n",
    "# Obtener las 10 canciones más populares del artista en España\n",
    "top_canciones = sp.artist_top_tracks(artista_id, country='ES')\n",
    "\n",
    "# Imprimir los nombres de las canciones\n",
    "print(\"Las 10 canciones más populares de Nina Simone en España:\")\n",
    "for i, track in enumerate(top_canciones['tracks'][:10], start=1):\n",
    "    print(f\"{i}. {track['name']}\")\n"
   ]
  },
  {
   "cell_type": "markdown",
   "metadata": {},
   "source": [
    "<br>\n",
    "\n",
    "**PASO 3: CONVERTIR LOS DATOS A UN DATAFRAME**"
   ]
  },
  {
   "cell_type": "code",
   "execution_count": 31,
   "metadata": {},
   "outputs": [
    {
     "name": "stdout",
     "output_type": "stream",
     "text": [
      "DataFrame de las canciones más populares de Nina Simone:\n"
     ]
    },
    {
     "data": {
      "text/html": [
       "<div>\n",
       "<style scoped>\n",
       "    .dataframe tbody tr th:only-of-type {\n",
       "        vertical-align: middle;\n",
       "    }\n",
       "\n",
       "    .dataframe tbody tr th {\n",
       "        vertical-align: top;\n",
       "    }\n",
       "\n",
       "    .dataframe thead th {\n",
       "        text-align: right;\n",
       "    }\n",
       "</style>\n",
       "<table border=\"1\" class=\"dataframe\">\n",
       "  <thead>\n",
       "    <tr style=\"text-align: right;\">\n",
       "      <th></th>\n",
       "      <th>Nombre de la canción</th>\n",
       "      <th>Álbum</th>\n",
       "      <th>Duración (ms)</th>\n",
       "      <th>Popularidad</th>\n",
       "      <th>URL de Spotify</th>\n",
       "    </tr>\n",
       "  </thead>\n",
       "  <tbody>\n",
       "    <tr>\n",
       "      <th>0</th>\n",
       "      <td>Feeling Good</td>\n",
       "      <td>I Put A Spell On You</td>\n",
       "      <td>174000</td>\n",
       "      <td>74</td>\n",
       "      <td>https://open.spotify.com/track/6Rqn2GFlmvmV4w9...</td>\n",
       "    </tr>\n",
       "    <tr>\n",
       "      <th>1</th>\n",
       "      <td>I Put A Spell On You</td>\n",
       "      <td>I Put A Spell On You</td>\n",
       "      <td>155026</td>\n",
       "      <td>69</td>\n",
       "      <td>https://open.spotify.com/track/0sjxRg1VlYfx4YG...</td>\n",
       "    </tr>\n",
       "    <tr>\n",
       "      <th>2</th>\n",
       "      <td>My Baby Just Cares for Me (2013 - Remaster)</td>\n",
       "      <td>Little Girl Blue (2013 - Remaster)</td>\n",
       "      <td>215746</td>\n",
       "      <td>68</td>\n",
       "      <td>https://open.spotify.com/track/5Lhjlnly9Ynhf52...</td>\n",
       "    </tr>\n",
       "    <tr>\n",
       "      <th>3</th>\n",
       "      <td>I Wish I Knew How It Would Feel to Be Free</td>\n",
       "      <td>New World Coming</td>\n",
       "      <td>187933</td>\n",
       "      <td>57</td>\n",
       "      <td>https://open.spotify.com/track/0ffKWwKo4yREKKL...</td>\n",
       "    </tr>\n",
       "    <tr>\n",
       "      <th>4</th>\n",
       "      <td>Don't Let Me Be Misunderstood</td>\n",
       "      <td>Broadway-Blues-Ballads</td>\n",
       "      <td>166200</td>\n",
       "      <td>60</td>\n",
       "      <td>https://open.spotify.com/track/7M9pPyt8Gr41THL...</td>\n",
       "    </tr>\n",
       "    <tr>\n",
       "      <th>5</th>\n",
       "      <td>Sinnerman</td>\n",
       "      <td>Pastel Blues</td>\n",
       "      <td>622000</td>\n",
       "      <td>59</td>\n",
       "      <td>https://open.spotify.com/track/5xRP5iyVdGglqlY...</td>\n",
       "    </tr>\n",
       "    <tr>\n",
       "      <th>6</th>\n",
       "      <td>Baltimore</td>\n",
       "      <td>Baltimore</td>\n",
       "      <td>278866</td>\n",
       "      <td>58</td>\n",
       "      <td>https://open.spotify.com/track/39CyGKIFqMzSuyn...</td>\n",
       "    </tr>\n",
       "    <tr>\n",
       "      <th>7</th>\n",
       "      <td>Sinnerman - Sofi Tukker Remix</td>\n",
       "      <td>Sinnerman (Sofi Tukker Remix)</td>\n",
       "      <td>232632</td>\n",
       "      <td>57</td>\n",
       "      <td>https://open.spotify.com/track/6Au1l0egQFYxbnC...</td>\n",
       "    </tr>\n",
       "    <tr>\n",
       "      <th>8</th>\n",
       "      <td>Love Me Or Leave Me</td>\n",
       "      <td>Let It All Out</td>\n",
       "      <td>244866</td>\n",
       "      <td>57</td>\n",
       "      <td>https://open.spotify.com/track/2XzHou7MZzOBQBq...</td>\n",
       "    </tr>\n",
       "    <tr>\n",
       "      <th>9</th>\n",
       "      <td>Feeling Good - Austin Millz Remix</td>\n",
       "      <td>Feeling Good (Austin Millz Remix)</td>\n",
       "      <td>150789</td>\n",
       "      <td>57</td>\n",
       "      <td>https://open.spotify.com/track/5DQFUDNNpdu2l3Z...</td>\n",
       "    </tr>\n",
       "  </tbody>\n",
       "</table>\n",
       "</div>"
      ],
      "text/plain": [
       "                          Nombre de la canción  \\\n",
       "0                                 Feeling Good   \n",
       "1                         I Put A Spell On You   \n",
       "2  My Baby Just Cares for Me (2013 - Remaster)   \n",
       "3   I Wish I Knew How It Would Feel to Be Free   \n",
       "4                Don't Let Me Be Misunderstood   \n",
       "5                                    Sinnerman   \n",
       "6                                    Baltimore   \n",
       "7                Sinnerman - Sofi Tukker Remix   \n",
       "8                          Love Me Or Leave Me   \n",
       "9            Feeling Good - Austin Millz Remix   \n",
       "\n",
       "                                Álbum  Duración (ms)  Popularidad  \\\n",
       "0                I Put A Spell On You         174000           74   \n",
       "1                I Put A Spell On You         155026           69   \n",
       "2  Little Girl Blue (2013 - Remaster)         215746           68   \n",
       "3                    New World Coming         187933           57   \n",
       "4              Broadway-Blues-Ballads         166200           60   \n",
       "5                        Pastel Blues         622000           59   \n",
       "6                           Baltimore         278866           58   \n",
       "7       Sinnerman (Sofi Tukker Remix)         232632           57   \n",
       "8                      Let It All Out         244866           57   \n",
       "9   Feeling Good (Austin Millz Remix)         150789           57   \n",
       "\n",
       "                                      URL de Spotify  \n",
       "0  https://open.spotify.com/track/6Rqn2GFlmvmV4w9...  \n",
       "1  https://open.spotify.com/track/0sjxRg1VlYfx4YG...  \n",
       "2  https://open.spotify.com/track/5Lhjlnly9Ynhf52...  \n",
       "3  https://open.spotify.com/track/0ffKWwKo4yREKKL...  \n",
       "4  https://open.spotify.com/track/7M9pPyt8Gr41THL...  \n",
       "5  https://open.spotify.com/track/5xRP5iyVdGglqlY...  \n",
       "6  https://open.spotify.com/track/39CyGKIFqMzSuyn...  \n",
       "7  https://open.spotify.com/track/6Au1l0egQFYxbnC...  \n",
       "8  https://open.spotify.com/track/2XzHou7MZzOBQBq...  \n",
       "9  https://open.spotify.com/track/5DQFUDNNpdu2l3Z...  "
      ]
     },
     "execution_count": 31,
     "metadata": {},
     "output_type": "execute_result"
    }
   ],
   "source": [
    "# Convertir los datos a un DataFrame de pandas\n",
    "df_canciones = pd.DataFrame(canciones_data)\n",
    "\n",
    "# Mostrar el DataFrame\n",
    "print(\"DataFrame de las canciones más populares de Nina Simone:\")\n",
    "df_canciones"
   ]
  },
  {
   "cell_type": "markdown",
   "metadata": {},
   "source": [
    "<br>\n",
    "\n",
    "**PASO 4: ANALIZAR LA RELACIÓN ESTADÍSTICA**"
   ]
  },
  {
   "cell_type": "code",
   "execution_count": 42,
   "metadata": {},
   "outputs": [
    {
     "name": "stdout",
     "output_type": "stream",
     "text": [
      "\n"
     ]
    },
    {
     "data": {
      "image/png": "[encoded data removed]",
      "text/plain": [
       "<Figure size 1000x600 with 1 Axes>"
      ]
     },
     "metadata": {},
     "output_type": "display_data"
    }
   ],
   "source": [
    "import matplotlib.pyplot as plt\n",
    "\n",
    "print()\n",
    "plt.figure(figsize=(10, 6))\n",
    "plt.scatter(df_canciones['Duración (ms)'], df_canciones['Popularidad'], alpha=0.7, s=50, color='red')\n",
    "plt.xlabel('Duración (Milisegundos)', fontsize=12)\n",
    "plt.ylabel('Popularidad (0-100)', fontsize=12)\n",
    "plt.title('RELACIÓN ENTRE DURACIÓN Y POPULARIDAD', fontsize=14)\n",
    "plt.grid(True, linestyle='--', alpha=0.5)\n",
    "\n",
    "plt.show()"
   ]
  },
  {
   "cell_type": "markdown",
   "metadata": {},
   "source": [
    "### **CONCLUSIÓN**"
   ]
  },
  {
   "cell_type": "markdown",
   "metadata": {},
   "source": [
    "En el caso específico, de las canciones de Nina Simone, se puede observar una **dispersión de puntos sin un patrón muy definido**.\n",
    "\n",
    "Esto sugiere que se pueden encontrar canciones cortas con alta popularidad y canciones largas con baja popularidad, y viceversa.\n",
    "\n",
    "Lo que significa que **la duración de la canción NO es un factor determinante para su popularidad.**\n"
   ]
  }
 ],
 "metadata": {
  "kernelspec": {
   "display_name": "Python 3",
   "language": "python",
   "name": "python3"
  },
  "language_info": {
   "codemirror_mode": {
    "name": "ipython",
    "version": 3
   },
   "file_extension": ".py",
   "mimetype": "text/x-python",
   "name": "python",
   "nbconvert_exporter": "python",
   "pygments_lexer": "ipython3",
   "version": "3.11.4"
  },
  "orig_nbformat": 4
 },
 "nbformat": 4,
 "nbformat_minor": 2
}
